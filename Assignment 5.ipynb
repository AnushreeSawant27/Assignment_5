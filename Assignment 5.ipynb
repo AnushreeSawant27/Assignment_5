{
 "cells": [
  {
   "cell_type": "markdown",
   "id": "441e8974",
   "metadata": {},
   "source": [
    "# Challenge 1: Square Numbers and Return Their Sum"
   ]
  },
  {
   "cell_type": "code",
   "execution_count": 6,
   "id": "42769d6e",
   "metadata": {},
   "outputs": [
    {
     "name": "stdout",
     "output_type": "stream",
     "text": [
      "Sum of squared numbers: 35\n"
     ]
    }
   ],
   "source": [
    "class Point:\n",
    "    def __init__(self, x, y, z):\n",
    "        self.x = x\n",
    "        self.y = y\n",
    "        self.z = z\n",
    "\n",
    "    def sqSum(self):\n",
    "        return self.x**2 + self.y**2 + self.z**2\n",
    "\n",
    "point = Point(1, 3, 5)\n",
    "result = point.sqSum()\n",
    "print(\"Sum of squared numbers:\",result)"
   ]
  },
  {
   "cell_type": "markdown",
   "id": "1d30a1ee",
   "metadata": {},
   "source": [
    "# Challenge 2: Implement a Calculator Class"
   ]
  },
  {
   "cell_type": "code",
   "execution_count": 7,
   "id": "efa99827",
   "metadata": {},
   "outputs": [
    {
     "name": "stdout",
     "output_type": "stream",
     "text": [
      "Addition value: 104\n",
      "Subtraction value: 84\n",
      "Multiplication value: 940\n",
      "Division value: 9.4\n"
     ]
    }
   ],
   "source": [
    "class Calculator:\n",
    "    def __init__(self, num1, num2):\n",
    "        self.num1 = num1\n",
    "        self.num2 = num2\n",
    "\n",
    "    def add(self):\n",
    "        return self.num1 + self.num2\n",
    "\n",
    "    def subtract(self):\n",
    "        return self.num2 - self.num1\n",
    "\n",
    "    def multiply(self):\n",
    "        return self.num1 * self.num2\n",
    "\n",
    "    def divide(self):\n",
    "        # Check if num1 is zero to avoid division by zero\n",
    "        if self.num1 == 0:\n",
    "            return \"Division by zero is not allowed\"\n",
    "        return self.num2 / self.num1\n",
    "\n",
    "obj = Calculator(10, 94)\n",
    "result_add = obj.add()\n",
    "result_subtract = obj.subtract()\n",
    "result_multiply = obj.multiply()\n",
    "result_divide = obj.divide()\n",
    "\n",
    "print(\"Addition value:\",result_add)\n",
    "print(\"Subtraction value:\",result_subtract)\n",
    "print(\"Multiplication value:\",result_multiply)\n",
    "print(\"Division value:\",result_divide)"
   ]
  },
  {
   "cell_type": "markdown",
   "id": "5a28ad98",
   "metadata": {},
   "source": [
    "# Challenge 3: Implement the Complete Student Class"
   ]
  },
  {
   "cell_type": "code",
   "execution_count": 8,
   "id": "479bda9a",
   "metadata": {},
   "outputs": [
    {
     "name": "stdout",
     "output_type": "stream",
     "text": [
      "Name: John\n",
      "Roll Number: 12345\n"
     ]
    }
   ],
   "source": [
    "class Student:\n",
    "    def __init__(self):\n",
    "        # Private properties\n",
    "        self.__name = \"\"\n",
    "        self.__rollNumber = 0\n",
    "\n",
    "    # Getter methods\n",
    "    def getName(self):\n",
    "        return self.__name\n",
    "\n",
    "    def getRollNumber(self):\n",
    "        return self.__rollNumber\n",
    "\n",
    "    # Setter methods\n",
    "    def setName(self, name):\n",
    "        self.__name = name\n",
    "\n",
    "    def setRollNumber(self, rollNumber):\n",
    "        self.__rollNumber = rollNumber\n",
    "\n",
    "student = Student()\n",
    "\n",
    "student.setName(\"John\")\n",
    "student.setRollNumber(12345)\n",
    "\n",
    "name = student.getName()\n",
    "rollNumber = student.getRollNumber()\n",
    "\n",
    "print(\"Name:\", name)\n",
    "print(\"Roll Number:\", rollNumber)"
   ]
  },
  {
   "cell_type": "markdown",
   "id": "1a5d592c",
   "metadata": {},
   "source": [
    "# Challenge 4: Implement a Banking Account"
   ]
  },
  {
   "cell_type": "code",
   "execution_count": 9,
   "id": "2b832ed6",
   "metadata": {},
   "outputs": [
    {
     "name": "stdout",
     "output_type": "stream",
     "text": [
      "Account Title: Ashish\n",
      "Account Balance: 5000\n",
      "Savings Account Title: Ashish\n",
      "Savings Account Balance: 5000\n",
      "Savings Account Interest Rate: 5\n"
     ]
    }
   ],
   "source": [
    "class Account:\n",
    "    def __init__(self, title, balance=0):\n",
    "        self.title = title\n",
    "        self.balance = balance\n",
    "\n",
    "class SavingsAccount(Account):\n",
    "    def __init__(self, title, balance=0, interestRate=0):\n",
    "        super().__init__(title, balance)\n",
    "        self.interestRate = interestRate\n",
    "\n",
    "account = Account(\"Ashish\", 5000)\n",
    "savings_account = SavingsAccount(\"Ashish\", 5000, 5)\n",
    "\n",
    "print(\"Account Title:\", account.title)\n",
    "print(\"Account Balance:\", account.balance)\n",
    "\n",
    "print(\"Savings Account Title:\", savings_account.title)\n",
    "print(\"Savings Account Balance:\", savings_account.balance)\n",
    "print(\"Savings Account Interest Rate:\", savings_account.interestRate)"
   ]
  },
  {
   "cell_type": "markdown",
   "id": "db552687",
   "metadata": {},
   "source": [
    "# Challenge 5: Handling a Bank Account"
   ]
  },
  {
   "cell_type": "code",
   "execution_count": 11,
   "id": "ea5a6168",
   "metadata": {},
   "outputs": [
    {
     "name": "stdout",
     "output_type": "stream",
     "text": [
      "Account balance after deposit: 2500\n",
      "Account balance after withdrawal: 2000\n",
      "Savings Account Interest: 100.0\n"
     ]
    }
   ],
   "source": [
    "class Account:\n",
    "    def __init__(self, title, balance=0):\n",
    "        self.title = title\n",
    "        self.balance = balance\n",
    "\n",
    "    def getBalance(self):\n",
    "        return self.balance\n",
    "\n",
    "    def deposit(self, amount):\n",
    "        self.balance += amount\n",
    "\n",
    "    def withdrawal(self, amount):\n",
    "        self.balance -= amount\n",
    "\n",
    "class SavingsAccount(Account):\n",
    "    def __init__(self, title, balance=0, interestRate=0):\n",
    "        super().__init__(title, balance)\n",
    "        self.interestRate = interestRate\n",
    "\n",
    "    def interestAmount(self):\n",
    "        return (self.balance * self.interestRate) / 100\n",
    "\n",
    "account = Account(\"Ashish\", 2000)\n",
    "account.deposit(500)\n",
    "print(\"Account balance after deposit:\",account.getBalance())  # Output: 2500\n",
    "account.withdrawal(500)\n",
    "print(\"Account balance after withdrawal:\",account.getBalance())  # Output: 2000\n",
    "\n",
    "savings_account = SavingsAccount(\"Ashish\", 2000, 5)\n",
    "interest = savings_account.interestAmount()\n",
    "print(\"Savings Account Interest:\",interest)"
   ]
  }
 ],
 "metadata": {
  "kernelspec": {
   "display_name": "Python 3 (ipykernel)",
   "language": "python",
   "name": "python3"
  },
  "language_info": {
   "codemirror_mode": {
    "name": "ipython",
    "version": 3
   },
   "file_extension": ".py",
   "mimetype": "text/x-python",
   "name": "python",
   "nbconvert_exporter": "python",
   "pygments_lexer": "ipython3",
   "version": "3.9.12"
  }
 },
 "nbformat": 4,
 "nbformat_minor": 5
}
